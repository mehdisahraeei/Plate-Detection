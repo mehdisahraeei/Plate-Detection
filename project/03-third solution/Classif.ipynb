{
 "cells": [
  {
   "cell_type": "markdown",
   "metadata": {},
   "source": [
    "# developer: Mohammad mehdi Sahraei\n"
   ]
  },
  {
   "cell_type": "markdown",
   "metadata": {
    "id": "K1embEqbU-JH"
   },
   "source": [
    "### importing libraries"
   ]
  },
  {
   "cell_type": "code",
   "execution_count": 2,
   "metadata": {
    "colab": {
     "base_uri": "https://localhost:8080/"
    },
    "id": "c3rLEywPjZWA",
    "outputId": "42feaad9-da0b-464a-ddfb-b7d39f87cdd9"
   },
   "outputs": [
    {
     "name": "stdout",
     "output_type": "stream",
     "text": [
      "Mounted at /content/drive\n"
     ]
    }
   ],
   "source": [
    "from google.colab import drive\n",
    "drive.mount('/content/drive')"
   ]
  },
  {
   "cell_type": "code",
   "execution_count": 3,
   "metadata": {
    "id": "OjNvUMrq2UbX"
   },
   "outputs": [],
   "source": [
    "import os\n",
    "import tensorflow as tf\n",
    "import keras\n",
    "import numpy as np\n",
    "import cv2 as cv\n",
    "import random\n",
    "import matplotlib.pyplot as plt"
   ]
  },
  {
   "cell_type": "code",
   "execution_count": 4,
   "metadata": {
    "colab": {
     "base_uri": "https://localhost:8080/"
    },
    "id": "UFrdOcjMtRX4",
    "outputId": "f9e4ea1c-a0b8-4455-d267-2d7cae7a6420"
   },
   "outputs": [
    {
     "name": "stdout",
     "output_type": "stream",
     "text": [
      "/content\n"
     ]
    }
   ],
   "source": [
    "%cd /content"
   ]
  },
  {
   "cell_type": "code",
   "execution_count": 5,
   "metadata": {
    "colab": {
     "base_uri": "https://localhost:8080/",
     "height": 36
    },
    "id": "B5rAIsyLVN65",
    "outputId": "79d5e861-99d6-4051-8928-f244e1c5c89b"
   },
   "outputs": [
    {
     "data": {
      "application/vnd.google.colaboratory.intrinsic+json": {
       "type": "string"
      },
      "text/plain": [
       "'/content'"
      ]
     },
     "execution_count": 5,
     "metadata": {},
     "output_type": "execute_result"
    }
   ],
   "source": [
    "%pwd"
   ]
  },
  {
   "cell_type": "markdown",
   "metadata": {
    "id": "x3CCGMWjVIcR"
   },
   "source": [
    "### downloading dataset"
   ]
  },
  {
   "cell_type": "code",
   "execution_count": 6,
   "metadata": {
    "colab": {
     "base_uri": "https://localhost:8080/",
     "height": 1000
    },
    "id": "vNDBPdCP3rHv",
    "outputId": "9d75d80f-43cf-486c-94bb-87b4d21776c8"
   },
   "outputs": [
    {
     "name": "stdout",
     "output_type": "stream",
     "text": [
      "Looking in indexes: https://pypi.org/simple, https://us-python.pkg.dev/colab-wheels/public/simple/\n",
      "Collecting roboflow\n",
      "  Downloading roboflow-0.2.23-py3-none-any.whl (46 kB)\n",
      "\u001b[2K     \u001b[90m━━━━━━━━━━━━━━━━━━━━━━━━━━━━━━━━━━━━━━━━\u001b[0m \u001b[32m46.4/46.4 KB\u001b[0m \u001b[31m7.0 MB/s\u001b[0m eta \u001b[36m0:00:00\u001b[0m\n",
      "\u001b[?25hRequirement already satisfied: matplotlib in /usr/local/lib/python3.8/dist-packages (from roboflow) (3.2.2)\n",
      "Collecting python-dotenv\n",
      "  Downloading python_dotenv-0.21.0-py3-none-any.whl (18 kB)\n",
      "Collecting urllib3==1.26.6\n",
      "  Downloading urllib3-1.26.6-py2.py3-none-any.whl (138 kB)\n",
      "\u001b[2K     \u001b[90m━━━━━━━━━━━━━━━━━━━━━━━━━━━━━━━━━━━━━━\u001b[0m \u001b[32m138.5/138.5 KB\u001b[0m \u001b[31m18.6 MB/s\u001b[0m eta \u001b[36m0:00:00\u001b[0m\n",
      "\u001b[?25hRequirement already satisfied: PyYAML>=5.3.1 in /usr/local/lib/python3.8/dist-packages (from roboflow) (6.0)\n",
      "Collecting cycler==0.10.0\n",
      "  Downloading cycler-0.10.0-py2.py3-none-any.whl (6.5 kB)\n",
      "Requirement already satisfied: glob2 in /usr/local/lib/python3.8/dist-packages (from roboflow) (0.7)\n",
      "Collecting wget\n",
      "  Downloading wget-3.2.zip (10 kB)\n",
      "  Preparing metadata (setup.py) ... \u001b[?25l\u001b[?25hdone\n",
      "Requirement already satisfied: python-dateutil in /usr/local/lib/python3.8/dist-packages (from roboflow) (2.8.2)\n",
      "Requirement already satisfied: tqdm>=4.41.0 in /usr/local/lib/python3.8/dist-packages (from roboflow) (4.64.1)\n",
      "Requirement already satisfied: numpy>=1.18.5 in /usr/local/lib/python3.8/dist-packages (from roboflow) (1.21.6)\n",
      "Collecting pyparsing==2.4.7\n",
      "  Downloading pyparsing-2.4.7-py2.py3-none-any.whl (67 kB)\n",
      "\u001b[2K     \u001b[90m━━━━━━━━━━━━━━━━━━━━━━━━━━━━━━━━━━━━━━━━\u001b[0m \u001b[32m67.8/67.8 KB\u001b[0m \u001b[31m10.8 MB/s\u001b[0m eta \u001b[36m0:00:00\u001b[0m\n",
      "\u001b[?25hCollecting requests-toolbelt\n",
      "  Downloading requests_toolbelt-0.10.1-py2.py3-none-any.whl (54 kB)\n",
      "\u001b[2K     \u001b[90m━━━━━━━━━━━━━━━━━━━━━━━━━━━━━━━━━━━━━━━━\u001b[0m \u001b[32m54.5/54.5 KB\u001b[0m \u001b[31m8.5 MB/s\u001b[0m eta \u001b[36m0:00:00\u001b[0m\n",
      "\u001b[?25hRequirement already satisfied: certifi==2022.12.7 in /usr/local/lib/python3.8/dist-packages (from roboflow) (2022.12.7)\n",
      "Requirement already satisfied: requests in /usr/local/lib/python3.8/dist-packages (from roboflow) (2.25.1)\n",
      "Requirement already satisfied: Pillow>=7.1.2 in /usr/local/lib/python3.8/dist-packages (from roboflow) (7.1.2)\n",
      "Requirement already satisfied: chardet==4.0.0 in /usr/local/lib/python3.8/dist-packages (from roboflow) (4.0.0)\n",
      "Requirement already satisfied: six in /usr/local/lib/python3.8/dist-packages (from roboflow) (1.15.0)\n",
      "Requirement already satisfied: idna==2.10 in /usr/local/lib/python3.8/dist-packages (from roboflow) (2.10)\n",
      "Requirement already satisfied: opencv-python-headless>=4.5.1.48 in /usr/local/lib/python3.8/dist-packages (from roboflow) (4.6.0.66)\n",
      "Requirement already satisfied: kiwisolver>=1.3.1 in /usr/local/lib/python3.8/dist-packages (from roboflow) (1.4.4)\n",
      "Building wheels for collected packages: wget\n",
      "  Building wheel for wget (setup.py) ... \u001b[?25l\u001b[?25hdone\n",
      "  Created wheel for wget: filename=wget-3.2-py3-none-any.whl size=9674 sha256=8478db4bc00e92ef133624e9702c374f373671cef66ff8cb637f44227c8293ea\n",
      "  Stored in directory: /root/.cache/pip/wheels/bd/a8/c3/3cf2c14a1837a4e04bd98631724e81f33f462d86a1d895fae0\n",
      "Successfully built wget\n",
      "Installing collected packages: wget, urllib3, python-dotenv, pyparsing, cycler, requests-toolbelt, roboflow\n",
      "  Attempting uninstall: urllib3\n",
      "    Found existing installation: urllib3 1.24.3\n",
      "    Uninstalling urllib3-1.24.3:\n",
      "      Successfully uninstalled urllib3-1.24.3\n",
      "  Attempting uninstall: pyparsing\n",
      "    Found existing installation: pyparsing 3.0.9\n",
      "    Uninstalling pyparsing-3.0.9:\n",
      "      Successfully uninstalled pyparsing-3.0.9\n",
      "  Attempting uninstall: cycler\n",
      "    Found existing installation: cycler 0.11.0\n",
      "    Uninstalling cycler-0.11.0:\n",
      "      Successfully uninstalled cycler-0.11.0\n",
      "Successfully installed cycler-0.10.0 pyparsing-2.4.7 python-dotenv-0.21.0 requests-toolbelt-0.10.1 roboflow-0.2.23 urllib3-1.26.6 wget-3.2\n"
     ]
    },
    {
     "data": {
      "application/vnd.colab-display-data+json": {
       "pip_warning": {
        "packages": [
         "cycler",
         "pyparsing",
         "urllib3"
        ]
       }
      }
     },
     "metadata": {},
     "output_type": "display_data"
    },
    {
     "name": "stdout",
     "output_type": "stream",
     "text": [
      "loading Roboflow workspace...\n",
      "loading Roboflow project...\n",
      "Downloading Dataset Version Zip in plate-alpha-6 to folder: 100% [5911854 / 5911854] bytes\n"
     ]
    },
    {
     "name": "stderr",
     "output_type": "stream",
     "text": [
      "Extracting Dataset Version Zip to plate-alpha-6 in folder:: 100%|██████████| 2218/2218 [00:00<00:00, 3408.51it/s]\n"
     ]
    }
   ],
   "source": [
    "!pip install roboflow\n",
    "\n",
    "from roboflow import Roboflow\n",
    "rf = Roboflow(api_key=\"OhaXBuHWLzwK4i1rCxMs\")\n",
    "project = rf.workspace(\"datasetyolov5-2k886\").project(\"plate-alpha\")\n",
    "dataset = project.version(6).download(\"folder\")"
   ]
  },
  {
   "cell_type": "markdown",
   "metadata": {
    "id": "VaNI9G9yXRbj"
   },
   "source": [
    "### setting dataset "
   ]
  },
  {
   "cell_type": "code",
   "execution_count": 7,
   "metadata": {
    "id": "m9IOndfw4E7k"
   },
   "outputs": [],
   "source": [
    "train_path = '/content/plate-alpha-6/train'\n",
    "valid_path = '/content/plate-alpha-6/valid'\n",
    "test_path = '/content/plate-alpha-6/test'"
   ]
  },
  {
   "cell_type": "code",
   "execution_count": 8,
   "metadata": {
    "id": "oK0pVKlN4kyn"
   },
   "outputs": [],
   "source": [
    "class_names = subdirs = ['1-alef', '2-b', '3-p', '4-t', '5-se', '6-jim', '7-che', '8-h', '9-kh', '10-d', '11-zal', '12-r', '13-z', '14-zh', '15-sin', '16-shin', '17-sad', '18-zad', '19-t-long', '20-z-long', '21-ayin', '22-ghyin', '23-f', '24-ghe', '25-k', '26-g', '27-le', '28-m', '29-n', '30-v', '31-he', '32-ye', '33-zero', '34-one', '35-two', '36-three', '37-four', '38-five', '39-six', '40-seven', '41-eight', '42-nine','43-anewfive']\n",
    "num_classes = len(class_names)"
   ]
  },
  {
   "cell_type": "code",
   "execution_count": 9,
   "metadata": {
    "colab": {
     "base_uri": "https://localhost:8080/"
    },
    "id": "-7hKlhXeuBnB",
    "outputId": "dd2634af-0988-4c93-fb58-0c6f14a602a2"
   },
   "outputs": [
    {
     "name": "stdout",
     "output_type": "stream",
     "text": [
      "43\n"
     ]
    }
   ],
   "source": [
    "print(len(class_names))"
   ]
  },
  {
   "cell_type": "code",
   "execution_count": 11,
   "metadata": {
    "colab": {
     "base_uri": "https://localhost:8080/"
    },
    "id": "apQX3Np47IDc",
    "outputId": "16680716-8def-4b2b-c65d-6378470f496e"
   },
   "outputs": [
    {
     "name": "stdout",
     "output_type": "stream",
     "text": [
      "[0, 1, 2, 3, 4, 5, 6, 7, 8, 9, 10, 11, 12, 13, 14, 15, 16, 17, 18, 19, 20, 21, 22, 23, 24, 25, 26, 27, 28, 29, 30, 31, 32, 33, 34, 35, 36, 37, 38, 39, 40, 41, 42]\n"
     ]
    }
   ],
   "source": [
    "labels_nums = [i for i in range(0,len(class_names))]\n",
    "print(labels_nums)"
   ]
  },
  {
   "cell_type": "markdown",
   "metadata": {
    "id": "JY1TJhjMXx8A"
   },
   "source": [
    "### using as np.array & mnist digit format"
   ]
  },
  {
   "cell_type": "code",
   "execution_count": 12,
   "metadata": {
    "id": "aigjAyqZ7YGH"
   },
   "outputs": [],
   "source": [
    "train_imgs = []\n",
    "train_labels = []\n",
    "for indx, subdir in enumerate(subdirs):\n",
    "  imgfolder = os.path.join(train_path, subdir)\n",
    "  for imgname in os.listdir(imgfolder):\n",
    "    img = cv.imread(os.path.join(imgfolder, imgname), 0)\n",
    "    train_imgs.append(img)\n",
    "    train_labels.append(labels_nums[indx])\n",
    "\n",
    "c = list(zip(train_imgs, train_labels))\n",
    "random.shuffle(c)\n",
    "train_imgs, train_labels = zip(*c)\n",
    "\n",
    "train_images = np.array(train_imgs)\n",
    "train_labels = np.array(train_labels)"
   ]
  },
  {
   "cell_type": "code",
   "execution_count": 13,
   "metadata": {
    "id": "MJUHOs_G0RKL"
   },
   "outputs": [],
   "source": [
    "\n",
    "valid_imgs = []\n",
    "valid_labels = []\n",
    "for indx, subdir in enumerate(subdirs):\n",
    "  imgfolder = os.path.join(valid_path, subdir)\n",
    "  if os.path.exists(imgfolder):\n",
    "    for imgname in os.listdir(imgfolder):\n",
    "      img = cv.imread(os.path.join(imgfolder, imgname), 0)\n",
    "      valid_imgs.append(img)\n",
    "      valid_labels.append(labels_nums[indx])\n",
    "\n",
    "c = list(zip(valid_imgs, valid_labels))\n",
    "random.shuffle(c)\n",
    "valid_imgs, valid_labels = zip(*c)\n",
    "\n",
    "test_images = np.array(valid_imgs)\n",
    "test_labels = np.array(valid_labels)"
   ]
  },
  {
   "cell_type": "markdown",
   "metadata": {
    "id": "4HGBgzVzYGQ3"
   },
   "source": [
    "### initial testing"
   ]
  },
  {
   "cell_type": "code",
   "execution_count": 14,
   "metadata": {
    "colab": {
     "base_uri": "https://localhost:8080/",
     "height": 321
    },
    "id": "5RdbOowJ0VzJ",
    "outputId": "45444850-e690-42b7-d3c8-9484ad93312e"
   },
   "outputs": [
    {
     "name": "stdout",
     "output_type": "stream",
     "text": [
      "3-p\n",
      "2\n"
     ]
    },
    {
     "data": {
      "text/plain": [
       "<matplotlib.image.AxesImage at 0x7f4ef33f1f10>"
      ]
     },
     "execution_count": 14,
     "metadata": {},
     "output_type": "execute_result"
    },
    {
     "data": {
      "image/png": "[encoded data removed]",
      "text/plain": [
       "<Figure size 432x288 with 1 Axes>"
      ]
     },
     "metadata": {
      "needs_background": "light"
     },
     "output_type": "display_data"
    }
   ],
   "source": [
    "num=90\n",
    "print(class_names[train_labels[num]])\n",
    "print(train_labels[num])\n",
    "plt.imshow(train_images[num])"
   ]
  },
  {
   "cell_type": "code",
   "execution_count": 18,
   "metadata": {
    "colab": {
     "base_uri": "https://localhost:8080/"
    },
    "id": "ls4jtBk5YMcA",
    "outputId": "8d592e2d-f043-4fe1-dd1a-f30982c7f7e6"
   },
   "outputs": [
    {
     "data": {
      "text/plain": [
       "array([10, 15,  9, 16, 13, 21, 13, 19, 21, 11, 17, 13,  0, 14, 17,  9, 13,\n",
       "       19, 13, 22, 10, 18, 13, 19, 13,  1,  1, 12, 21, 12, 12, 19, 18, 13,\n",
       "       13, 18, 17, 16, 21, 16, 11, 16,  9, 22, 16, 14,  9, 22, 11, 18, 13,\n",
       "       21, 15, 14, 15,  9, 13,  1, 17, 10,  1, 14, 19, 20, 20, 15, 10, 18,\n",
       "       17, 17,  1, 17, 14, 17, 10,  9, 16,  0, 10, 19, 20, 11, 21, 22, 21,\n",
       "       12,  9, 11,  1,  9, 14, 22, 10, 11,  1, 10, 19, 16,  9, 16, 19, 20,\n",
       "       22, 11, 18, 16, 15, 11,  1])"
      ]
     },
     "execution_count": 18,
     "metadata": {},
     "output_type": "execute_result"
    }
   ],
   "source": [
    "test_labels"
   ]
  },
  {
   "cell_type": "markdown",
   "metadata": {
    "id": "pLJDA6AbYNny"
   },
   "source": [
    "### training model"
   ]
  },
  {
   "cell_type": "code",
   "execution_count": 16,
   "metadata": {
    "id": "Lxy8zuMg0f4A"
   },
   "outputs": [],
   "source": [
    "#Normalization\n",
    "train_images = train_images / 255.0\n",
    "test_images = test_images / 255.0"
   ]
  },
  {
   "cell_type": "code",
   "execution_count": 17,
   "metadata": {
    "id": "oi3J1Ouv0lDV"
   },
   "outputs": [],
   "source": [
    "\n",
    "model = keras.Sequential([\n",
    "\n",
    "    keras.layers.Dropout(0.12),\n",
    "    keras.layers.BatchNormalization(),\n",
    "    \n",
    "    \n",
    "    # Flattening is used to convert all the resultant 2-Dimensional arrays from pooled feature maps into \n",
    "    # a single long continuous linear vector. The flattened matrix is fed as input to the fully connected layer to classify the image\n",
    "    keras.layers.Flatten(input_shape=(64, 64)),\n",
    "    keras.layers.BatchNormalization(),\n",
    "\n",
    "    keras.layers.Dense(128, activation=tf.nn.relu),\n",
    "    keras.layers.Dense(num_classes, activation=tf.nn.softmax)\n",
    "])"
   ]
  },
  {
   "cell_type": "code",
   "execution_count": null,
   "metadata": {
    "id": "pRD8k0W20pqS"
   },
   "outputs": [],
   "source": [
    "model.compile(optimizer='adam',\n",
    "              loss='sparse_categorical_crossentropy',\n",
    "              metrics=['accuracy'])\n",
    "     "
   ]
  },
  {
   "cell_type": "code",
   "execution_count": null,
   "metadata": {
    "colab": {
     "base_uri": "https://localhost:8080/"
    },
    "id": "5iLlpMBq0wOn",
    "outputId": "eedb3b36-9d5b-44f5-c69a-64f18518d9ce"
   },
   "outputs": [
    {
     "name": "stdout",
     "output_type": "stream",
     "text": [
      "Epoch 1/480\n",
      "61/61 [==============================] - 3s 11ms/step - loss: 2.7787 - accuracy: 0.3576\n",
      "Epoch 2/480\n",
      "61/61 [==============================] - 1s 10ms/step - loss: 1.6754 - accuracy: 0.5763\n",
      "Epoch 3/480\n",
      "61/61 [==============================] - 1s 10ms/step - loss: 1.3865 - accuracy: 0.6169\n",
      "Epoch 4/480\n",
      "61/61 [==============================] - 1s 9ms/step - loss: 1.0762 - accuracy: 0.6939\n",
      "Epoch 5/480\n",
      "61/61 [==============================] - 1s 9ms/step - loss: 0.9704 - accuracy: 0.6996\n",
      "Epoch 6/480\n",
      "61/61 [==============================] - 1s 9ms/step - loss: 0.8383 - accuracy: 0.7314\n",
      "Epoch 7/480\n",
      "61/61 [==============================] - 1s 9ms/step - loss: 0.7383 - accuracy: 0.7611\n",
      "Epoch 8/480\n",
      "61/61 [==============================] - 1s 9ms/step - loss: 0.6534 - accuracy: 0.7944\n",
      "Epoch 9/480\n",
      "61/61 [==============================] - 1s 9ms/step - loss: 0.5938 - accuracy: 0.7923\n",
      "Epoch 10/480\n",
      "61/61 [==============================] - 1s 9ms/step - loss: 0.5319 - accuracy: 0.8074\n",
      "Epoch 11/480\n",
      "61/61 [==============================] - 1s 9ms/step - loss: 0.5214 - accuracy: 0.8142\n",
      "Epoch 12/480\n",
      "61/61 [==============================] - 1s 9ms/step - loss: 0.4337 - accuracy: 0.8444\n",
      "Epoch 13/480\n",
      "61/61 [==============================] - 1s 9ms/step - loss: 0.4759 - accuracy: 0.8303\n",
      "Epoch 14/480\n",
      "61/61 [==============================] - 1s 9ms/step - loss: 0.4835 - accuracy: 0.8324\n",
      "Epoch 15/480\n",
      "61/61 [==============================] - 1s 9ms/step - loss: 0.4099 - accuracy: 0.8600\n",
      "Epoch 16/480\n",
      "61/61 [==============================] - 1s 9ms/step - loss: 0.3827 - accuracy: 0.8673\n",
      "Epoch 17/480\n",
      "61/61 [==============================] - 1s 9ms/step - loss: 0.3610 - accuracy: 0.8725\n",
      "Epoch 18/480\n",
      "61/61 [==============================] - 1s 9ms/step - loss: 0.3657 - accuracy: 0.8683\n",
      "Epoch 19/480\n",
      "61/61 [==============================] - 1s 9ms/step - loss: 0.3637 - accuracy: 0.8787\n",
      "Epoch 20/480\n",
      "61/61 [==============================] - 1s 9ms/step - loss: 0.3408 - accuracy: 0.8761\n",
      "Epoch 21/480\n",
      "61/61 [==============================] - 1s 9ms/step - loss: 0.3314 - accuracy: 0.8818\n",
      "Epoch 22/480\n",
      "61/61 [==============================] - 1s 9ms/step - loss: 0.3140 - accuracy: 0.8995\n",
      "Epoch 23/480\n",
      "61/61 [==============================] - 1s 9ms/step - loss: 0.3307 - accuracy: 0.8928\n",
      "Epoch 24/480\n",
      "61/61 [==============================] - 1s 9ms/step - loss: 0.2717 - accuracy: 0.9016\n",
      "Epoch 25/480\n",
      "61/61 [==============================] - 1s 9ms/step - loss: 0.2940 - accuracy: 0.8985\n",
      "Epoch 26/480\n",
      "61/61 [==============================] - 1s 9ms/step - loss: 0.2451 - accuracy: 0.9099\n",
      "Epoch 27/480\n",
      "61/61 [==============================] - 1s 9ms/step - loss: 0.3126 - accuracy: 0.8974\n",
      "Epoch 28/480\n",
      "61/61 [==============================] - 1s 9ms/step - loss: 0.2973 - accuracy: 0.8974\n",
      "Epoch 29/480\n",
      "61/61 [==============================] - 1s 9ms/step - loss: 0.2871 - accuracy: 0.9058\n",
      "Epoch 30/480\n",
      "61/61 [==============================] - 1s 9ms/step - loss: 0.2733 - accuracy: 0.9042\n",
      "Epoch 31/480\n",
      "61/61 [==============================] - 1s 9ms/step - loss: 0.2393 - accuracy: 0.9162\n",
      "Epoch 32/480\n",
      "61/61 [==============================] - 1s 9ms/step - loss: 0.2067 - accuracy: 0.9250\n",
      "Epoch 33/480\n",
      "61/61 [==============================] - 1s 9ms/step - loss: 0.2405 - accuracy: 0.9151\n",
      "Epoch 34/480\n",
      "61/61 [==============================] - 1s 9ms/step - loss: 0.2330 - accuracy: 0.9256\n",
      "Epoch 35/480\n",
      "61/61 [==============================] - 1s 9ms/step - loss: 0.2536 - accuracy: 0.9125\n",
      "Epoch 36/480\n",
      "61/61 [==============================] - 1s 9ms/step - loss: 0.2665 - accuracy: 0.9136\n",
      "Epoch 37/480\n",
      "61/61 [==============================] - 1s 9ms/step - loss: 0.2307 - accuracy: 0.9240\n",
      "Epoch 38/480\n",
      "61/61 [==============================] - 1s 9ms/step - loss: 0.2077 - accuracy: 0.9250\n",
      "Epoch 39/480\n",
      "61/61 [==============================] - 1s 9ms/step - loss: 0.2364 - accuracy: 0.9230\n",
      "Epoch 40/480\n",
      "61/61 [==============================] - 1s 9ms/step - loss: 0.2281 - accuracy: 0.9240\n",
      "Epoch 41/480\n",
      "61/61 [==============================] - 1s 9ms/step - loss: 0.2180 - accuracy: 0.9302\n",
      "Epoch 42/480\n",
      "61/61 [==============================] - 1s 9ms/step - loss: 0.2020 - accuracy: 0.9235\n",
      "Epoch 43/480\n",
      "61/61 [==============================] - 1s 9ms/step - loss: 0.2380 - accuracy: 0.9308\n",
      "Epoch 44/480\n",
      "61/61 [==============================] - 1s 9ms/step - loss: 0.2412 - accuracy: 0.9204\n",
      "Epoch 45/480\n",
      "61/61 [==============================] - 1s 9ms/step - loss: 0.2329 - accuracy: 0.9271\n",
      "Epoch 46/480\n",
      "61/61 [==============================] - 1s 9ms/step - loss: 0.1618 - accuracy: 0.9427\n",
      "Epoch 47/480\n",
      "61/61 [==============================] - 1s 9ms/step - loss: 0.2227 - accuracy: 0.9214\n",
      "Epoch 48/480\n",
      "61/61 [==============================] - 1s 9ms/step - loss: 0.1946 - accuracy: 0.9365\n",
      "Epoch 49/480\n",
      "61/61 [==============================] - 1s 9ms/step - loss: 0.2420 - accuracy: 0.9230\n",
      "Epoch 50/480\n",
      "61/61 [==============================] - 1s 9ms/step - loss: 0.2108 - accuracy: 0.9360\n",
      "Epoch 51/480\n",
      "61/61 [==============================] - 1s 10ms/step - loss: 0.2015 - accuracy: 0.9292\n",
      "Epoch 52/480\n",
      "61/61 [==============================] - 1s 10ms/step - loss: 0.2571 - accuracy: 0.9224\n",
      "Epoch 53/480\n",
      "61/61 [==============================] - 1s 9ms/step - loss: 0.2521 - accuracy: 0.9276\n",
      "Epoch 54/480\n",
      "61/61 [==============================] - 1s 9ms/step - loss: 0.2272 - accuracy: 0.9266\n",
      "Epoch 55/480\n",
      "61/61 [==============================] - 1s 9ms/step - loss: 0.2391 - accuracy: 0.9302\n",
      "Epoch 56/480\n",
      "61/61 [==============================] - 1s 9ms/step - loss: 0.2448 - accuracy: 0.9209\n",
      "Epoch 57/480\n",
      "61/61 [==============================] - 1s 9ms/step - loss: 0.2132 - accuracy: 0.9375\n",
      "Epoch 58/480\n",
      "61/61 [==============================] - 1s 9ms/step - loss: 0.1796 - accuracy: 0.9386\n",
      "Epoch 59/480\n",
      "61/61 [==============================] - 1s 9ms/step - loss: 0.1961 - accuracy: 0.9349\n",
      "Epoch 60/480\n",
      "61/61 [==============================] - 1s 9ms/step - loss: 0.1994 - accuracy: 0.9381\n",
      "Epoch 61/480\n",
      "61/61 [==============================] - 1s 9ms/step - loss: 0.1504 - accuracy: 0.9495\n",
      "Epoch 62/480\n",
      "61/61 [==============================] - 1s 9ms/step - loss: 0.1890 - accuracy: 0.9469\n",
      "Epoch 63/480\n",
      "61/61 [==============================] - 1s 9ms/step - loss: 0.2469 - accuracy: 0.9230\n",
      "Epoch 64/480\n",
      "61/61 [==============================] - 1s 9ms/step - loss: 0.2387 - accuracy: 0.9287\n",
      "Epoch 65/480\n",
      "61/61 [==============================] - 1s 9ms/step - loss: 0.2046 - accuracy: 0.9401\n",
      "Epoch 66/480\n",
      "61/61 [==============================] - 1s 9ms/step - loss: 0.1903 - accuracy: 0.9360\n",
      "Epoch 67/480\n",
      "61/61 [==============================] - 1s 9ms/step - loss: 0.1485 - accuracy: 0.9568\n",
      "Epoch 68/480\n",
      "61/61 [==============================] - 1s 10ms/step - loss: 0.1463 - accuracy: 0.9516\n",
      "Epoch 69/480\n",
      "61/61 [==============================] - 1s 9ms/step - loss: 0.2178 - accuracy: 0.9375\n",
      "Epoch 70/480\n",
      "61/61 [==============================] - 1s 10ms/step - loss: 0.1792 - accuracy: 0.9412\n",
      "Epoch 71/480\n",
      "61/61 [==============================] - 1s 9ms/step - loss: 0.2244 - accuracy: 0.9407\n",
      "Epoch 72/480\n",
      "61/61 [==============================] - 1s 9ms/step - loss: 0.1786 - accuracy: 0.9500\n",
      "Epoch 73/480\n",
      "61/61 [==============================] - 1s 9ms/step - loss: 0.1671 - accuracy: 0.9521\n",
      "Epoch 74/480\n",
      "61/61 [==============================] - 1s 9ms/step - loss: 0.1745 - accuracy: 0.9505\n",
      "Epoch 75/480\n",
      "61/61 [==============================] - 1s 10ms/step - loss: 0.1923 - accuracy: 0.9542\n",
      "Epoch 76/480\n",
      "61/61 [==============================] - 1s 9ms/step - loss: 0.1562 - accuracy: 0.9558\n",
      "Epoch 77/480\n",
      "61/61 [==============================] - 1s 9ms/step - loss: 0.1437 - accuracy: 0.9568\n",
      "Epoch 78/480\n",
      "61/61 [==============================] - 1s 9ms/step - loss: 0.1922 - accuracy: 0.9453\n",
      "Epoch 79/480\n",
      "61/61 [==============================] - 1s 9ms/step - loss: 0.1930 - accuracy: 0.9495\n",
      "Epoch 80/480\n",
      "61/61 [==============================] - 1s 9ms/step - loss: 0.1296 - accuracy: 0.9599\n",
      "Epoch 81/480\n",
      "61/61 [==============================] - 1s 9ms/step - loss: 0.1285 - accuracy: 0.9625\n",
      "Epoch 82/480\n",
      "61/61 [==============================] - 1s 9ms/step - loss: 0.1268 - accuracy: 0.9615\n",
      "Epoch 83/480\n",
      "61/61 [==============================] - 1s 9ms/step - loss: 0.1296 - accuracy: 0.9599\n",
      "Epoch 84/480\n",
      "61/61 [==============================] - 1s 9ms/step - loss: 0.1532 - accuracy: 0.9589\n",
      "Epoch 85/480\n",
      "61/61 [==============================] - 1s 9ms/step - loss: 0.1575 - accuracy: 0.9589\n",
      "Epoch 86/480\n",
      "61/61 [==============================] - 1s 9ms/step - loss: 0.1573 - accuracy: 0.9547\n",
      "Epoch 87/480\n",
      "61/61 [==============================] - 1s 9ms/step - loss: 0.1411 - accuracy: 0.9604\n",
      "Epoch 88/480\n",
      "61/61 [==============================] - 1s 10ms/step - loss: 0.1019 - accuracy: 0.9646\n",
      "Epoch 89/480\n",
      "61/61 [==============================] - 1s 9ms/step - loss: 0.1178 - accuracy: 0.9594\n",
      "Epoch 90/480\n",
      "61/61 [==============================] - 1s 9ms/step - loss: 0.1455 - accuracy: 0.9662\n",
      "Epoch 91/480\n",
      "61/61 [==============================] - 1s 9ms/step - loss: 0.1308 - accuracy: 0.9630\n",
      "Epoch 92/480\n",
      "61/61 [==============================] - 1s 9ms/step - loss: 0.1278 - accuracy: 0.9558\n",
      "Epoch 93/480\n",
      "61/61 [==============================] - 1s 9ms/step - loss: 0.1533 - accuracy: 0.9610\n",
      "Epoch 94/480\n",
      "61/61 [==============================] - 1s 9ms/step - loss: 0.1518 - accuracy: 0.9610\n",
      "Epoch 95/480\n",
      "61/61 [==============================] - 1s 9ms/step - loss: 0.1519 - accuracy: 0.9620\n",
      "Epoch 96/480\n",
      "61/61 [==============================] - 1s 9ms/step - loss: 0.1368 - accuracy: 0.9646\n",
      "Epoch 97/480\n",
      "61/61 [==============================] - 1s 9ms/step - loss: 0.1125 - accuracy: 0.9651\n",
      "Epoch 98/480\n",
      "61/61 [==============================] - 1s 9ms/step - loss: 0.1378 - accuracy: 0.9641\n",
      "Epoch 99/480\n",
      "61/61 [==============================] - 1s 9ms/step - loss: 0.1523 - accuracy: 0.9599\n",
      "Epoch 100/480\n",
      "61/61 [==============================] - 1s 9ms/step - loss: 0.1360 - accuracy: 0.9636\n",
      "Epoch 101/480\n",
      "61/61 [==============================] - 1s 9ms/step - loss: 0.1592 - accuracy: 0.9578\n",
      "Epoch 102/480\n",
      "61/61 [==============================] - 1s 9ms/step - loss: 0.1741 - accuracy: 0.9584\n",
      "Epoch 103/480\n",
      "61/61 [==============================] - 1s 9ms/step - loss: 0.0918 - accuracy: 0.9677\n",
      "Epoch 104/480\n",
      "61/61 [==============================] - 1s 9ms/step - loss: 0.1119 - accuracy: 0.9646\n",
      "Epoch 105/480\n",
      "61/61 [==============================] - 1s 9ms/step - loss: 0.1162 - accuracy: 0.9641\n",
      "Epoch 106/480\n",
      "61/61 [==============================] - 1s 10ms/step - loss: 0.1259 - accuracy: 0.9636\n",
      "Epoch 107/480\n",
      "61/61 [==============================] - 1s 9ms/step - loss: 0.1903 - accuracy: 0.9547\n",
      "Epoch 108/480\n",
      "61/61 [==============================] - 1s 9ms/step - loss: 0.1674 - accuracy: 0.9558\n",
      "Epoch 109/480\n",
      "61/61 [==============================] - 1s 9ms/step - loss: 0.1483 - accuracy: 0.9630\n",
      "Epoch 110/480\n",
      "61/61 [==============================] - 1s 9ms/step - loss: 0.1380 - accuracy: 0.9630\n",
      "Epoch 111/480\n",
      "61/61 [==============================] - 1s 9ms/step - loss: 0.1996 - accuracy: 0.9584\n",
      "Epoch 112/480\n",
      "61/61 [==============================] - 1s 9ms/step - loss: 0.1654 - accuracy: 0.9620\n",
      "Epoch 113/480\n",
      "61/61 [==============================] - 1s 9ms/step - loss: 0.1362 - accuracy: 0.9589\n",
      "Epoch 114/480\n",
      "61/61 [==============================] - 1s 9ms/step - loss: 0.1392 - accuracy: 0.9651\n",
      "Epoch 115/480\n",
      "61/61 [==============================] - 1s 10ms/step - loss: 0.1822 - accuracy: 0.9610\n",
      "Epoch 116/480\n",
      "61/61 [==============================] - 1s 14ms/step - loss: 0.1769 - accuracy: 0.9552\n",
      "Epoch 117/480\n",
      "61/61 [==============================] - 1s 12ms/step - loss: 0.1332 - accuracy: 0.9636\n",
      "Epoch 118/480\n",
      "61/61 [==============================] - 1s 10ms/step - loss: 0.1620 - accuracy: 0.9599\n",
      "Epoch 119/480\n",
      "61/61 [==============================] - 1s 10ms/step - loss: 0.1110 - accuracy: 0.9662\n",
      "Epoch 120/480\n",
      "61/61 [==============================] - 1s 10ms/step - loss: 0.1064 - accuracy: 0.9703\n",
      "Epoch 121/480\n",
      "61/61 [==============================] - 1s 11ms/step - loss: 0.0991 - accuracy: 0.9672\n",
      "Epoch 122/480\n",
      "61/61 [==============================] - 1s 11ms/step - loss: 0.1477 - accuracy: 0.9578\n",
      "Epoch 123/480\n",
      "61/61 [==============================] - 1s 10ms/step - loss: 0.1307 - accuracy: 0.9656\n",
      "Epoch 124/480\n",
      "61/61 [==============================] - 1s 11ms/step - loss: 0.1348 - accuracy: 0.9620\n",
      "Epoch 125/480\n",
      "61/61 [==============================] - 1s 10ms/step - loss: 0.1815 - accuracy: 0.9610\n",
      "Epoch 126/480\n",
      "61/61 [==============================] - 1s 9ms/step - loss: 0.1526 - accuracy: 0.9646\n",
      "Epoch 127/480\n",
      "61/61 [==============================] - 1s 9ms/step - loss: 0.1402 - accuracy: 0.9589\n",
      "Epoch 128/480\n",
      "61/61 [==============================] - 1s 9ms/step - loss: 0.1667 - accuracy: 0.9589\n",
      "Epoch 129/480\n",
      "61/61 [==============================] - 1s 9ms/step - loss: 0.1284 - accuracy: 0.9641\n",
      "Epoch 130/480\n",
      "61/61 [==============================] - 1s 9ms/step - loss: 0.1593 - accuracy: 0.9662\n",
      "Epoch 131/480\n",
      "61/61 [==============================] - 1s 9ms/step - loss: 0.1402 - accuracy: 0.9672\n",
      "Epoch 132/480\n",
      "61/61 [==============================] - 1s 9ms/step - loss: 0.1273 - accuracy: 0.9625\n",
      "Epoch 133/480\n",
      "61/61 [==============================] - 1s 9ms/step - loss: 0.1023 - accuracy: 0.9719\n",
      "Epoch 134/480\n",
      "61/61 [==============================] - 1s 9ms/step - loss: 0.1319 - accuracy: 0.9703\n",
      "Epoch 135/480\n",
      "61/61 [==============================] - 1s 9ms/step - loss: 0.1208 - accuracy: 0.9651\n",
      "Epoch 136/480\n",
      "61/61 [==============================] - 1s 9ms/step - loss: 0.1127 - accuracy: 0.9703\n",
      "Epoch 137/480\n",
      "61/61 [==============================] - 1s 9ms/step - loss: 0.1691 - accuracy: 0.9578\n",
      "Epoch 138/480\n",
      "61/61 [==============================] - 1s 9ms/step - loss: 0.1170 - accuracy: 0.9677\n",
      "Epoch 139/480\n",
      "61/61 [==============================] - 1s 9ms/step - loss: 0.1366 - accuracy: 0.9682\n",
      "Epoch 140/480\n",
      "61/61 [==============================] - 1s 9ms/step - loss: 0.1279 - accuracy: 0.9682\n",
      "Epoch 141/480\n",
      "61/61 [==============================] - 1s 9ms/step - loss: 0.0965 - accuracy: 0.9740\n",
      "Epoch 142/480\n",
      "61/61 [==============================] - 1s 10ms/step - loss: 0.1027 - accuracy: 0.9724\n",
      "Epoch 143/480\n",
      "61/61 [==============================] - 1s 9ms/step - loss: 0.1406 - accuracy: 0.9698\n",
      "Epoch 144/480\n",
      "61/61 [==============================] - 1s 9ms/step - loss: 0.1085 - accuracy: 0.9719\n",
      "Epoch 145/480\n",
      "61/61 [==============================] - 1s 9ms/step - loss: 0.1513 - accuracy: 0.9641\n",
      "Epoch 146/480\n",
      "61/61 [==============================] - 1s 9ms/step - loss: 0.1340 - accuracy: 0.9682\n",
      "Epoch 147/480\n",
      "61/61 [==============================] - 1s 9ms/step - loss: 0.1508 - accuracy: 0.9636\n",
      "Epoch 148/480\n",
      "61/61 [==============================] - 1s 9ms/step - loss: 0.1361 - accuracy: 0.9677\n",
      "Epoch 149/480\n",
      "61/61 [==============================] - 1s 9ms/step - loss: 0.1178 - accuracy: 0.9729\n",
      "Epoch 150/480\n",
      "61/61 [==============================] - 1s 9ms/step - loss: 0.1667 - accuracy: 0.9641\n",
      "Epoch 151/480\n",
      "61/61 [==============================] - 1s 10ms/step - loss: 0.1126 - accuracy: 0.9688\n",
      "Epoch 152/480\n",
      "61/61 [==============================] - 1s 9ms/step - loss: 0.1302 - accuracy: 0.9677\n",
      "Epoch 153/480\n",
      "61/61 [==============================] - 1s 9ms/step - loss: 0.1312 - accuracy: 0.9688\n",
      "Epoch 154/480\n",
      "61/61 [==============================] - 1s 9ms/step - loss: 0.1357 - accuracy: 0.9708\n",
      "Epoch 155/480\n",
      "61/61 [==============================] - 1s 9ms/step - loss: 0.0870 - accuracy: 0.9797\n",
      "Epoch 156/480\n",
      "61/61 [==============================] - 1s 10ms/step - loss: 0.1027 - accuracy: 0.9750\n",
      "Epoch 157/480\n",
      "61/61 [==============================] - 1s 9ms/step - loss: 0.1796 - accuracy: 0.9641\n",
      "Epoch 158/480\n",
      "61/61 [==============================] - 1s 9ms/step - loss: 0.1472 - accuracy: 0.9636\n",
      "Epoch 159/480\n",
      "61/61 [==============================] - 1s 9ms/step - loss: 0.1351 - accuracy: 0.9672\n",
      "Epoch 160/480\n",
      "61/61 [==============================] - 1s 9ms/step - loss: 0.1624 - accuracy: 0.9672\n",
      "Epoch 161/480\n",
      "61/61 [==============================] - 1s 12ms/step - loss: 0.1548 - accuracy: 0.9672\n",
      "Epoch 162/480\n",
      "61/61 [==============================] - 1s 15ms/step - loss: 0.1276 - accuracy: 0.9708\n",
      "Epoch 163/480\n",
      "61/61 [==============================] - 1s 9ms/step - loss: 0.1192 - accuracy: 0.9724\n",
      "Epoch 164/480\n",
      "61/61 [==============================] - 1s 9ms/step - loss: 0.1148 - accuracy: 0.9682\n",
      "Epoch 165/480\n",
      "61/61 [==============================] - 1s 9ms/step - loss: 0.1111 - accuracy: 0.9750\n",
      "Epoch 166/480\n",
      "61/61 [==============================] - 1s 9ms/step - loss: 0.1020 - accuracy: 0.9735\n",
      "Epoch 167/480\n",
      "61/61 [==============================] - 1s 9ms/step - loss: 0.1621 - accuracy: 0.9630\n",
      "Epoch 168/480\n",
      "61/61 [==============================] - 1s 9ms/step - loss: 0.1923 - accuracy: 0.9698\n",
      "Epoch 169/480\n",
      "61/61 [==============================] - 1s 9ms/step - loss: 0.1489 - accuracy: 0.9693\n",
      "Epoch 170/480\n",
      "61/61 [==============================] - 1s 9ms/step - loss: 0.1150 - accuracy: 0.9745\n",
      "Epoch 171/480\n",
      "61/61 [==============================] - 1s 9ms/step - loss: 0.0951 - accuracy: 0.9761\n",
      "Epoch 172/480\n",
      "61/61 [==============================] - 1s 9ms/step - loss: 0.0940 - accuracy: 0.9740\n",
      "Epoch 173/480\n",
      "61/61 [==============================] - 1s 9ms/step - loss: 0.1228 - accuracy: 0.9750\n",
      "Epoch 174/480\n",
      "61/61 [==============================] - 1s 10ms/step - loss: 0.1291 - accuracy: 0.9719\n",
      "Epoch 175/480\n",
      "61/61 [==============================] - 1s 9ms/step - loss: 0.1665 - accuracy: 0.9662\n",
      "Epoch 176/480\n",
      "61/61 [==============================] - 1s 9ms/step - loss: 0.1293 - accuracy: 0.9714\n",
      "Epoch 177/480\n",
      "61/61 [==============================] - 1s 10ms/step - loss: 0.0950 - accuracy: 0.9755\n",
      "Epoch 178/480\n",
      "61/61 [==============================] - 1s 9ms/step - loss: 0.0864 - accuracy: 0.9761\n",
      "Epoch 179/480\n",
      "61/61 [==============================] - 1s 10ms/step - loss: 0.1287 - accuracy: 0.9693\n",
      "Epoch 180/480\n",
      "61/61 [==============================] - 1s 9ms/step - loss: 0.0696 - accuracy: 0.9787\n",
      "Epoch 181/480\n",
      "61/61 [==============================] - 1s 10ms/step - loss: 0.1494 - accuracy: 0.9688\n",
      "Epoch 182/480\n",
      "61/61 [==============================] - 1s 10ms/step - loss: 0.1378 - accuracy: 0.9750\n",
      "Epoch 183/480\n",
      "61/61 [==============================] - 1s 9ms/step - loss: 0.1456 - accuracy: 0.9724\n",
      "Epoch 184/480\n",
      "61/61 [==============================] - 1s 10ms/step - loss: 0.1682 - accuracy: 0.9714\n",
      "Epoch 185/480\n",
      "61/61 [==============================] - 1s 9ms/step - loss: 0.1981 - accuracy: 0.9656\n",
      "Epoch 186/480\n",
      "61/61 [==============================] - 1s 9ms/step - loss: 0.1243 - accuracy: 0.9735\n",
      "Epoch 187/480\n",
      "61/61 [==============================] - 1s 9ms/step - loss: 0.1307 - accuracy: 0.9766\n",
      "Epoch 188/480\n",
      "61/61 [==============================] - 1s 9ms/step - loss: 0.0936 - accuracy: 0.9797\n",
      "Epoch 189/480\n",
      "61/61 [==============================] - 1s 9ms/step - loss: 0.1108 - accuracy: 0.9729\n",
      "Epoch 190/480\n",
      "61/61 [==============================] - 1s 9ms/step - loss: 0.0682 - accuracy: 0.9828\n",
      "Epoch 191/480\n",
      "61/61 [==============================] - 1s 12ms/step - loss: 0.1122 - accuracy: 0.9729\n",
      "Epoch 192/480\n",
      "61/61 [==============================] - 1s 16ms/step - loss: 0.1236 - accuracy: 0.9703\n",
      "Epoch 193/480\n",
      "61/61 [==============================] - 1s 9ms/step - loss: 0.0858 - accuracy: 0.9823\n",
      "Epoch 194/480\n",
      "61/61 [==============================] - 1s 9ms/step - loss: 0.0757 - accuracy: 0.9797\n",
      "Epoch 195/480\n",
      "61/61 [==============================] - 1s 9ms/step - loss: 0.1429 - accuracy: 0.9740\n",
      "Epoch 196/480\n",
      "61/61 [==============================] - 1s 10ms/step - loss: 0.1315 - accuracy: 0.9729\n",
      "Epoch 197/480\n",
      "61/61 [==============================] - 1s 10ms/step - loss: 0.1621 - accuracy: 0.9672\n",
      "Epoch 198/480\n",
      "61/61 [==============================] - 1s 9ms/step - loss: 0.1053 - accuracy: 0.9750\n",
      "Epoch 199/480\n",
      "61/61 [==============================] - 1s 9ms/step - loss: 0.1577 - accuracy: 0.9698\n",
      "Epoch 200/480\n",
      "61/61 [==============================] - 1s 9ms/step - loss: 0.0796 - accuracy: 0.9750\n",
      "Epoch 201/480\n",
      "61/61 [==============================] - 1s 9ms/step - loss: 0.1026 - accuracy: 0.9787\n",
      "Epoch 202/480\n",
      "61/61 [==============================] - 1s 9ms/step - loss: 0.0923 - accuracy: 0.9813\n",
      "Epoch 203/480\n",
      "61/61 [==============================] - 1s 9ms/step - loss: 0.1011 - accuracy: 0.9781\n",
      "Epoch 204/480\n",
      "61/61 [==============================] - 1s 9ms/step - loss: 0.1390 - accuracy: 0.9766\n",
      "Epoch 205/480\n",
      "61/61 [==============================] - 1s 9ms/step - loss: 0.1190 - accuracy: 0.9755\n",
      "Epoch 206/480\n",
      "61/61 [==============================] - 1s 9ms/step - loss: 0.1029 - accuracy: 0.9792\n",
      "Epoch 207/480\n",
      "61/61 [==============================] - 1s 9ms/step - loss: 0.0832 - accuracy: 0.9849\n",
      "Epoch 208/480\n",
      "61/61 [==============================] - 1s 10ms/step - loss: 0.1355 - accuracy: 0.9750\n",
      "Epoch 209/480\n",
      "61/61 [==============================] - 1s 9ms/step - loss: 0.1038 - accuracy: 0.9771\n",
      "Epoch 210/480\n",
      "61/61 [==============================] - 1s 10ms/step - loss: 0.1858 - accuracy: 0.9735\n",
      "Epoch 211/480\n",
      "61/61 [==============================] - 1s 9ms/step - loss: 0.1652 - accuracy: 0.9740\n",
      "Epoch 212/480\n",
      "61/61 [==============================] - 1s 9ms/step - loss: 0.1330 - accuracy: 0.9781\n",
      "Epoch 213/480\n",
      "61/61 [==============================] - 1s 9ms/step - loss: 0.0939 - accuracy: 0.9797\n",
      "Epoch 214/480\n",
      "61/61 [==============================] - 1s 9ms/step - loss: 0.0868 - accuracy: 0.9813\n",
      "Epoch 215/480\n",
      "61/61 [==============================] - 1s 9ms/step - loss: 0.1140 - accuracy: 0.9761\n",
      "Epoch 216/480\n",
      "61/61 [==============================] - 1s 9ms/step - loss: 0.1322 - accuracy: 0.9735\n",
      "Epoch 217/480\n",
      "61/61 [==============================] - 1s 10ms/step - loss: 0.1167 - accuracy: 0.9740\n",
      "Epoch 218/480\n",
      "61/61 [==============================] - 1s 9ms/step - loss: 0.0981 - accuracy: 0.9807\n",
      "Epoch 219/480\n",
      "61/61 [==============================] - 1s 11ms/step - loss: 0.0860 - accuracy: 0.9792\n",
      "Epoch 220/480\n",
      "61/61 [==============================] - 1s 11ms/step - loss: 0.1015 - accuracy: 0.9776\n",
      "Epoch 221/480\n",
      "61/61 [==============================] - 1s 11ms/step - loss: 0.0817 - accuracy: 0.9823\n",
      "Epoch 222/480\n",
      "61/61 [==============================] - 1s 10ms/step - loss: 0.1956 - accuracy: 0.9714\n",
      "Epoch 223/480\n",
      "61/61 [==============================] - 1s 11ms/step - loss: 0.0848 - accuracy: 0.9771\n",
      "Epoch 224/480\n",
      "61/61 [==============================] - 1s 10ms/step - loss: 0.0880 - accuracy: 0.9802\n",
      "Epoch 225/480\n",
      "61/61 [==============================] - 1s 10ms/step - loss: 0.0828 - accuracy: 0.9787\n",
      "Epoch 226/480\n",
      "61/61 [==============================] - 1s 9ms/step - loss: 0.1345 - accuracy: 0.9755\n",
      "Epoch 227/480\n",
      "61/61 [==============================] - 1s 9ms/step - loss: 0.0628 - accuracy: 0.9839\n",
      "Epoch 228/480\n",
      "61/61 [==============================] - 1s 9ms/step - loss: 0.0665 - accuracy: 0.9844\n",
      "Epoch 229/480\n",
      "61/61 [==============================] - 1s 9ms/step - loss: 0.0648 - accuracy: 0.9823\n",
      "Epoch 230/480\n",
      "61/61 [==============================] - 1s 10ms/step - loss: 0.1127 - accuracy: 0.9766\n",
      "Epoch 231/480\n",
      "61/61 [==============================] - 1s 9ms/step - loss: 0.0891 - accuracy: 0.9792\n",
      "Epoch 232/480\n",
      "61/61 [==============================] - 1s 10ms/step - loss: 0.0649 - accuracy: 0.9792\n",
      "Epoch 233/480\n",
      "61/61 [==============================] - 1s 9ms/step - loss: 0.1083 - accuracy: 0.9771\n",
      "Epoch 234/480\n",
      "61/61 [==============================] - 1s 10ms/step - loss: 0.1165 - accuracy: 0.9807\n",
      "Epoch 235/480\n",
      "61/61 [==============================] - 1s 10ms/step - loss: 0.0839 - accuracy: 0.9823\n",
      "Epoch 236/480\n",
      "61/61 [==============================] - 1s 9ms/step - loss: 0.1177 - accuracy: 0.9792\n",
      "Epoch 237/480\n",
      "61/61 [==============================] - 1s 10ms/step - loss: 0.0881 - accuracy: 0.9802\n",
      "Epoch 238/480\n",
      "61/61 [==============================] - 1s 9ms/step - loss: 0.1074 - accuracy: 0.9807\n",
      "Epoch 239/480\n",
      "61/61 [==============================] - 1s 10ms/step - loss: 0.1237 - accuracy: 0.9781\n",
      "Epoch 240/480\n",
      "61/61 [==============================] - 1s 10ms/step - loss: 0.0940 - accuracy: 0.9844\n",
      "Epoch 241/480\n",
      "61/61 [==============================] - 1s 10ms/step - loss: 0.0765 - accuracy: 0.9828\n",
      "Epoch 242/480\n",
      "61/61 [==============================] - 1s 10ms/step - loss: 0.1470 - accuracy: 0.9740\n",
      "Epoch 243/480\n",
      "61/61 [==============================] - 1s 9ms/step - loss: 0.1338 - accuracy: 0.9729\n",
      "Epoch 244/480\n",
      "61/61 [==============================] - 1s 10ms/step - loss: 0.1748 - accuracy: 0.9682\n",
      "Epoch 245/480\n",
      "61/61 [==============================] - 1s 9ms/step - loss: 0.1080 - accuracy: 0.9797\n",
      "Epoch 246/480\n",
      "61/61 [==============================] - 1s 10ms/step - loss: 0.0830 - accuracy: 0.9823\n",
      "Epoch 247/480\n",
      "61/61 [==============================] - 1s 10ms/step - loss: 0.1051 - accuracy: 0.9792\n",
      "Epoch 248/480\n",
      "61/61 [==============================] - 1s 10ms/step - loss: 0.1078 - accuracy: 0.9807\n",
      "Epoch 249/480\n",
      "61/61 [==============================] - 1s 10ms/step - loss: 0.0872 - accuracy: 0.9828\n",
      "Epoch 250/480\n",
      "61/61 [==============================] - 1s 9ms/step - loss: 0.0936 - accuracy: 0.9849\n",
      "Epoch 251/480\n",
      "61/61 [==============================] - 1s 9ms/step - loss: 0.0711 - accuracy: 0.9880\n",
      "Epoch 252/480\n",
      "61/61 [==============================] - 1s 10ms/step - loss: 0.1028 - accuracy: 0.9807\n",
      "Epoch 253/480\n",
      "61/61 [==============================] - 1s 10ms/step - loss: 0.1028 - accuracy: 0.9781\n",
      "Epoch 254/480\n",
      "61/61 [==============================] - 1s 10ms/step - loss: 0.0895 - accuracy: 0.9797\n",
      "Epoch 255/480\n",
      "61/61 [==============================] - 1s 10ms/step - loss: 0.1049 - accuracy: 0.9787\n",
      "Epoch 256/480\n",
      "61/61 [==============================] - 1s 10ms/step - loss: 0.0839 - accuracy: 0.9792\n",
      "Epoch 257/480\n",
      "61/61 [==============================] - 1s 9ms/step - loss: 0.0834 - accuracy: 0.9828\n",
      "Epoch 258/480\n",
      "61/61 [==============================] - 1s 10ms/step - loss: 0.0713 - accuracy: 0.9870\n",
      "Epoch 259/480\n",
      "61/61 [==============================] - 1s 9ms/step - loss: 0.0907 - accuracy: 0.9818\n",
      "Epoch 260/480\n",
      "61/61 [==============================] - 1s 9ms/step - loss: 0.1176 - accuracy: 0.9776\n",
      "Epoch 261/480\n",
      "61/61 [==============================] - 1s 10ms/step - loss: 0.1221 - accuracy: 0.9823\n",
      "Epoch 262/480\n",
      "61/61 [==============================] - 1s 9ms/step - loss: 0.1284 - accuracy: 0.9761\n",
      "Epoch 263/480\n",
      "61/61 [==============================] - 1s 9ms/step - loss: 0.0878 - accuracy: 0.9787\n",
      "Epoch 264/480\n",
      "61/61 [==============================] - 1s 10ms/step - loss: 0.0764 - accuracy: 0.9823\n",
      "Epoch 265/480\n",
      "61/61 [==============================] - 1s 10ms/step - loss: 0.0948 - accuracy: 0.9828\n",
      "Epoch 266/480\n",
      "61/61 [==============================] - 1s 9ms/step - loss: 0.1104 - accuracy: 0.9797\n",
      "Epoch 267/480\n",
      "61/61 [==============================] - 1s 10ms/step - loss: 0.0526 - accuracy: 0.9818\n",
      "Epoch 268/480\n",
      "61/61 [==============================] - 1s 9ms/step - loss: 0.0970 - accuracy: 0.9797\n",
      "Epoch 269/480\n",
      "61/61 [==============================] - 1s 9ms/step - loss: 0.1199 - accuracy: 0.9787\n",
      "Epoch 270/480\n",
      "61/61 [==============================] - 1s 10ms/step - loss: 0.1160 - accuracy: 0.9766\n",
      "Epoch 271/480\n",
      "61/61 [==============================] - 1s 9ms/step - loss: 0.1168 - accuracy: 0.9787\n",
      "Epoch 272/480\n",
      "61/61 [==============================] - 1s 10ms/step - loss: 0.1551 - accuracy: 0.9776\n",
      "Epoch 273/480\n",
      "61/61 [==============================] - 1s 10ms/step - loss: 0.1411 - accuracy: 0.9807\n",
      "Epoch 274/480\n",
      "61/61 [==============================] - 1s 9ms/step - loss: 0.0945 - accuracy: 0.9828\n",
      "Epoch 275/480\n",
      "61/61 [==============================] - 1s 10ms/step - loss: 0.0698 - accuracy: 0.9870\n",
      "Epoch 276/480\n",
      "61/61 [==============================] - 1s 9ms/step - loss: 0.1324 - accuracy: 0.9823\n",
      "Epoch 277/480\n",
      "61/61 [==============================] - 1s 10ms/step - loss: 0.1190 - accuracy: 0.9839\n",
      "Epoch 278/480\n",
      "61/61 [==============================] - 1s 10ms/step - loss: 0.1032 - accuracy: 0.9807\n",
      "Epoch 279/480\n",
      "61/61 [==============================] - 1s 9ms/step - loss: 0.0968 - accuracy: 0.9833\n",
      "Epoch 280/480\n",
      "61/61 [==============================] - 1s 10ms/step - loss: 0.1004 - accuracy: 0.9844\n",
      "Epoch 281/480\n",
      "61/61 [==============================] - 1s 10ms/step - loss: 0.0961 - accuracy: 0.9833\n",
      "Epoch 282/480\n",
      "61/61 [==============================] - 1s 10ms/step - loss: 0.0869 - accuracy: 0.9828\n",
      "Epoch 283/480\n",
      "61/61 [==============================] - 1s 10ms/step - loss: 0.1538 - accuracy: 0.9755\n",
      "Epoch 284/480\n",
      "61/61 [==============================] - 1s 10ms/step - loss: 0.1960 - accuracy: 0.9714\n",
      "Epoch 285/480\n",
      "61/61 [==============================] - 1s 10ms/step - loss: 0.1145 - accuracy: 0.9792\n",
      "Epoch 286/480\n",
      "61/61 [==============================] - 1s 9ms/step - loss: 0.1434 - accuracy: 0.9792\n",
      "Epoch 287/480\n",
      "61/61 [==============================] - 1s 10ms/step - loss: 0.1422 - accuracy: 0.9776\n",
      "Epoch 288/480\n",
      "61/61 [==============================] - 1s 9ms/step - loss: 0.1571 - accuracy: 0.9776\n",
      "Epoch 289/480\n",
      "61/61 [==============================] - 1s 10ms/step - loss: 0.1476 - accuracy: 0.9807\n",
      "Epoch 290/480\n",
      "61/61 [==============================] - 1s 10ms/step - loss: 0.1277 - accuracy: 0.9813\n",
      "Epoch 291/480\n",
      "61/61 [==============================] - 1s 10ms/step - loss: 0.1198 - accuracy: 0.9849\n",
      "Epoch 292/480\n",
      "61/61 [==============================] - 1s 10ms/step - loss: 0.0604 - accuracy: 0.9875\n",
      "Epoch 293/480\n",
      "61/61 [==============================] - 1s 10ms/step - loss: 0.1046 - accuracy: 0.9844\n",
      "Epoch 294/480\n",
      "61/61 [==============================] - 1s 10ms/step - loss: 0.1491 - accuracy: 0.9781\n",
      "Epoch 295/480\n",
      "61/61 [==============================] - 1s 9ms/step - loss: 0.0942 - accuracy: 0.9823\n",
      "Epoch 296/480\n",
      "61/61 [==============================] - 1s 10ms/step - loss: 0.0624 - accuracy: 0.9880\n",
      "Epoch 297/480\n",
      "61/61 [==============================] - 1s 9ms/step - loss: 0.0613 - accuracy: 0.9849\n",
      "Epoch 298/480\n",
      "61/61 [==============================] - 1s 9ms/step - loss: 0.1020 - accuracy: 0.9828\n",
      "Epoch 299/480\n",
      "61/61 [==============================] - 1s 9ms/step - loss: 0.0796 - accuracy: 0.9854\n",
      "Epoch 300/480\n",
      "61/61 [==============================] - 1s 10ms/step - loss: 0.0798 - accuracy: 0.9833\n",
      "Epoch 301/480\n",
      "61/61 [==============================] - 1s 9ms/step - loss: 0.1417 - accuracy: 0.9766\n",
      "Epoch 302/480\n",
      "61/61 [==============================] - 1s 10ms/step - loss: 0.1402 - accuracy: 0.9802\n",
      "Epoch 303/480\n",
      "61/61 [==============================] - 1s 10ms/step - loss: 0.0687 - accuracy: 0.9854\n",
      "Epoch 304/480\n",
      "61/61 [==============================] - 1s 10ms/step - loss: 0.1480 - accuracy: 0.9776\n",
      "Epoch 305/480\n",
      "61/61 [==============================] - 1s 10ms/step - loss: 0.1158 - accuracy: 0.9844\n",
      "Epoch 306/480\n",
      "61/61 [==============================] - 1s 10ms/step - loss: 0.1870 - accuracy: 0.9781\n",
      "Epoch 307/480\n",
      "61/61 [==============================] - 1s 9ms/step - loss: 0.0722 - accuracy: 0.9849\n",
      "Epoch 308/480\n",
      "61/61 [==============================] - 1s 10ms/step - loss: 0.0862 - accuracy: 0.9870\n",
      "Epoch 309/480\n",
      "61/61 [==============================] - 1s 10ms/step - loss: 0.0887 - accuracy: 0.9818\n",
      "Epoch 310/480\n",
      "61/61 [==============================] - 1s 10ms/step - loss: 0.1102 - accuracy: 0.9849\n",
      "Epoch 311/480\n",
      "61/61 [==============================] - 1s 10ms/step - loss: 0.0793 - accuracy: 0.9823\n",
      "Epoch 312/480\n",
      "61/61 [==============================] - 1s 10ms/step - loss: 0.0550 - accuracy: 0.9891\n",
      "Epoch 313/480\n",
      "61/61 [==============================] - 1s 9ms/step - loss: 0.0795 - accuracy: 0.9906\n",
      "Epoch 314/480\n",
      "61/61 [==============================] - 1s 9ms/step - loss: 0.1403 - accuracy: 0.9828\n",
      "Epoch 315/480\n",
      "61/61 [==============================] - 1s 10ms/step - loss: 0.1224 - accuracy: 0.9844\n",
      "Epoch 316/480\n",
      "61/61 [==============================] - 1s 10ms/step - loss: 0.0733 - accuracy: 0.9833\n",
      "Epoch 317/480\n",
      "61/61 [==============================] - 1s 10ms/step - loss: 0.1349 - accuracy: 0.9807\n",
      "Epoch 318/480\n",
      "61/61 [==============================] - 1s 10ms/step - loss: 0.0786 - accuracy: 0.9833\n",
      "Epoch 319/480\n",
      "61/61 [==============================] - 1s 9ms/step - loss: 0.1033 - accuracy: 0.9839\n",
      "Epoch 320/480\n",
      "61/61 [==============================] - 1s 10ms/step - loss: 0.0993 - accuracy: 0.9833\n",
      "Epoch 321/480\n",
      "61/61 [==============================] - 1s 9ms/step - loss: 0.0845 - accuracy: 0.9854\n",
      "Epoch 322/480\n",
      "61/61 [==============================] - 1s 10ms/step - loss: 0.0714 - accuracy: 0.9875\n",
      "Epoch 323/480\n",
      "61/61 [==============================] - 1s 10ms/step - loss: 0.0795 - accuracy: 0.9875\n",
      "Epoch 324/480\n",
      "61/61 [==============================] - 1s 9ms/step - loss: 0.1128 - accuracy: 0.9823\n",
      "Epoch 325/480\n",
      "61/61 [==============================] - 1s 10ms/step - loss: 0.1428 - accuracy: 0.9849\n",
      "Epoch 326/480\n",
      "61/61 [==============================] - 1s 10ms/step - loss: 0.1142 - accuracy: 0.9818\n",
      "Epoch 327/480\n",
      "61/61 [==============================] - 1s 9ms/step - loss: 0.0931 - accuracy: 0.9859\n",
      "Epoch 328/480\n",
      "61/61 [==============================] - 1s 10ms/step - loss: 0.1041 - accuracy: 0.9870\n",
      "Epoch 329/480\n",
      "61/61 [==============================] - 1s 10ms/step - loss: 0.1120 - accuracy: 0.9807\n",
      "Epoch 330/480\n",
      "61/61 [==============================] - 1s 10ms/step - loss: 0.1337 - accuracy: 0.9813\n",
      "Epoch 331/480\n",
      "61/61 [==============================] - 1s 9ms/step - loss: 0.1644 - accuracy: 0.9766\n",
      "Epoch 332/480\n",
      "61/61 [==============================] - 1s 10ms/step - loss: 0.1103 - accuracy: 0.9828\n",
      "Epoch 333/480\n",
      "61/61 [==============================] - 1s 10ms/step - loss: 0.1211 - accuracy: 0.9807\n",
      "Epoch 334/480\n",
      "61/61 [==============================] - 1s 10ms/step - loss: 0.0850 - accuracy: 0.9875\n",
      "Epoch 335/480\n",
      "61/61 [==============================] - 1s 10ms/step - loss: 0.1041 - accuracy: 0.9802\n",
      "Epoch 336/480\n",
      "61/61 [==============================] - 1s 9ms/step - loss: 0.1284 - accuracy: 0.9807\n",
      "Epoch 337/480\n",
      "61/61 [==============================] - 1s 10ms/step - loss: 0.1032 - accuracy: 0.9849\n",
      "Epoch 338/480\n",
      "61/61 [==============================] - 1s 9ms/step - loss: 0.0981 - accuracy: 0.9823\n",
      "Epoch 339/480\n",
      "61/61 [==============================] - 1s 10ms/step - loss: 0.1070 - accuracy: 0.9823\n",
      "Epoch 340/480\n",
      "61/61 [==============================] - 1s 10ms/step - loss: 0.0940 - accuracy: 0.9849\n",
      "Epoch 341/480\n",
      "61/61 [==============================] - 1s 10ms/step - loss: 0.1113 - accuracy: 0.9839\n",
      "Epoch 342/480\n",
      "61/61 [==============================] - 1s 10ms/step - loss: 0.1640 - accuracy: 0.9781\n",
      "Epoch 343/480\n",
      "61/61 [==============================] - 1s 10ms/step - loss: 0.0852 - accuracy: 0.9859\n",
      "Epoch 344/480\n",
      "61/61 [==============================] - 1s 10ms/step - loss: 0.1122 - accuracy: 0.9833\n",
      "Epoch 345/480\n",
      "61/61 [==============================] - 1s 10ms/step - loss: 0.1142 - accuracy: 0.9818\n",
      "Epoch 346/480\n",
      "61/61 [==============================] - 1s 10ms/step - loss: 0.0962 - accuracy: 0.9813\n",
      "Epoch 347/480\n",
      "61/61 [==============================] - 1s 10ms/step - loss: 0.0975 - accuracy: 0.9875\n",
      "Epoch 348/480\n",
      "61/61 [==============================] - 1s 10ms/step - loss: 0.1140 - accuracy: 0.9885\n",
      "Epoch 349/480\n",
      "61/61 [==============================] - 1s 10ms/step - loss: 0.0703 - accuracy: 0.9865\n",
      "Epoch 350/480\n",
      "61/61 [==============================] - 1s 10ms/step - loss: 0.0805 - accuracy: 0.9849\n",
      "Epoch 351/480\n",
      "61/61 [==============================] - 1s 10ms/step - loss: 0.0803 - accuracy: 0.9875\n",
      "Epoch 352/480\n",
      "61/61 [==============================] - 1s 10ms/step - loss: 0.1128 - accuracy: 0.9828\n",
      "Epoch 353/480\n",
      "61/61 [==============================] - 1s 10ms/step - loss: 0.0850 - accuracy: 0.9865\n",
      "Epoch 354/480\n",
      "61/61 [==============================] - 1s 10ms/step - loss: 0.0570 - accuracy: 0.9880\n",
      "Epoch 355/480\n",
      "61/61 [==============================] - 1s 9ms/step - loss: 0.0664 - accuracy: 0.9854\n",
      "Epoch 356/480\n",
      "61/61 [==============================] - 1s 9ms/step - loss: 0.0704 - accuracy: 0.9865\n",
      "Epoch 357/480\n",
      "61/61 [==============================] - 1s 10ms/step - loss: 0.0798 - accuracy: 0.9870\n",
      "Epoch 358/480\n",
      "61/61 [==============================] - 1s 10ms/step - loss: 0.0785 - accuracy: 0.9859\n",
      "Epoch 359/480\n",
      "61/61 [==============================] - 1s 10ms/step - loss: 0.0839 - accuracy: 0.9870\n",
      "Epoch 360/480\n",
      "61/61 [==============================] - 1s 10ms/step - loss: 0.1252 - accuracy: 0.9807\n",
      "Epoch 361/480\n",
      "61/61 [==============================] - 1s 10ms/step - loss: 0.0779 - accuracy: 0.9849\n",
      "Epoch 362/480\n",
      "61/61 [==============================] - 1s 10ms/step - loss: 0.0741 - accuracy: 0.9906\n",
      "Epoch 363/480\n",
      "61/61 [==============================] - 1s 10ms/step - loss: 0.0809 - accuracy: 0.9880\n",
      "Epoch 364/480\n",
      "61/61 [==============================] - 1s 10ms/step - loss: 0.0850 - accuracy: 0.9901\n",
      "Epoch 365/480\n",
      "61/61 [==============================] - 1s 10ms/step - loss: 0.0731 - accuracy: 0.9875\n",
      "Epoch 366/480\n",
      "61/61 [==============================] - 1s 10ms/step - loss: 0.0877 - accuracy: 0.9802\n",
      "Epoch 367/480\n",
      "61/61 [==============================] - 1s 10ms/step - loss: 0.1381 - accuracy: 0.9833\n",
      "Epoch 368/480\n",
      "61/61 [==============================] - 1s 10ms/step - loss: 0.1048 - accuracy: 0.9833\n",
      "Epoch 369/480\n",
      "61/61 [==============================] - 1s 10ms/step - loss: 0.0717 - accuracy: 0.9938\n",
      "Epoch 370/480\n",
      "61/61 [==============================] - 1s 10ms/step - loss: 0.0856 - accuracy: 0.9854\n",
      "Epoch 371/480\n",
      "61/61 [==============================] - 1s 10ms/step - loss: 0.0761 - accuracy: 0.9839\n",
      "Epoch 372/480\n",
      "61/61 [==============================] - 1s 10ms/step - loss: 0.1145 - accuracy: 0.9839\n",
      "Epoch 373/480\n",
      "61/61 [==============================] - 1s 10ms/step - loss: 0.0836 - accuracy: 0.9865\n",
      "Epoch 374/480\n",
      "61/61 [==============================] - 1s 10ms/step - loss: 0.1015 - accuracy: 0.9865\n",
      "Epoch 375/480\n",
      "61/61 [==============================] - 1s 10ms/step - loss: 0.0972 - accuracy: 0.9854\n",
      "Epoch 376/480\n",
      "61/61 [==============================] - 1s 10ms/step - loss: 0.0853 - accuracy: 0.9802\n",
      "Epoch 377/480\n",
      "61/61 [==============================] - 1s 10ms/step - loss: 0.1034 - accuracy: 0.9854\n",
      "Epoch 378/480\n",
      "61/61 [==============================] - 1s 10ms/step - loss: 0.0969 - accuracy: 0.9854\n",
      "Epoch 379/480\n",
      "61/61 [==============================] - 1s 10ms/step - loss: 0.1199 - accuracy: 0.9828\n",
      "Epoch 380/480\n",
      "61/61 [==============================] - 1s 10ms/step - loss: 0.1221 - accuracy: 0.9823\n",
      "Epoch 381/480\n",
      "61/61 [==============================] - 1s 10ms/step - loss: 0.0396 - accuracy: 0.9901\n",
      "Epoch 382/480\n",
      "61/61 [==============================] - 1s 10ms/step - loss: 0.0733 - accuracy: 0.9891\n",
      "Epoch 383/480\n",
      "61/61 [==============================] - 1s 10ms/step - loss: 0.0459 - accuracy: 0.9901\n",
      "Epoch 384/480\n",
      "61/61 [==============================] - 1s 10ms/step - loss: 0.0437 - accuracy: 0.9896\n",
      "Epoch 385/480\n",
      "61/61 [==============================] - 1s 10ms/step - loss: 0.0429 - accuracy: 0.9912\n",
      "Epoch 386/480\n",
      "61/61 [==============================] - 1s 10ms/step - loss: 0.0391 - accuracy: 0.9896\n",
      "Epoch 387/480\n",
      "61/61 [==============================] - 1s 9ms/step - loss: 0.0894 - accuracy: 0.9891\n",
      "Epoch 388/480\n",
      "61/61 [==============================] - 1s 10ms/step - loss: 0.0944 - accuracy: 0.9823\n",
      "Epoch 389/480\n",
      "61/61 [==============================] - 1s 10ms/step - loss: 0.0606 - accuracy: 0.9922\n",
      "Epoch 390/480\n",
      "61/61 [==============================] - 1s 10ms/step - loss: 0.0693 - accuracy: 0.9885\n",
      "Epoch 391/480\n",
      "61/61 [==============================] - 1s 10ms/step - loss: 0.1111 - accuracy: 0.9844\n",
      "Epoch 392/480\n",
      "61/61 [==============================] - 1s 10ms/step - loss: 0.1375 - accuracy: 0.9828\n",
      "Epoch 393/480\n",
      "61/61 [==============================] - 1s 10ms/step - loss: 0.1173 - accuracy: 0.9839\n",
      "Epoch 394/480\n",
      "61/61 [==============================] - 1s 9ms/step - loss: 0.0865 - accuracy: 0.9849\n",
      "Epoch 395/480\n",
      "61/61 [==============================] - 1s 10ms/step - loss: 0.0758 - accuracy: 0.9880\n",
      "Epoch 396/480\n",
      "61/61 [==============================] - 1s 10ms/step - loss: 0.1352 - accuracy: 0.9833\n",
      "Epoch 397/480\n",
      "61/61 [==============================] - 1s 10ms/step - loss: 0.0869 - accuracy: 0.9859\n",
      "Epoch 398/480\n",
      "61/61 [==============================] - 1s 10ms/step - loss: 0.1380 - accuracy: 0.9828\n",
      "Epoch 399/480\n",
      "61/61 [==============================] - 1s 10ms/step - loss: 0.1728 - accuracy: 0.9802\n",
      "Epoch 400/480\n",
      "61/61 [==============================] - 1s 10ms/step - loss: 0.1308 - accuracy: 0.9823\n",
      "Epoch 401/480\n",
      "61/61 [==============================] - 1s 10ms/step - loss: 0.1446 - accuracy: 0.9807\n",
      "Epoch 402/480\n",
      "61/61 [==============================] - 1s 10ms/step - loss: 0.1666 - accuracy: 0.9787\n",
      "Epoch 403/480\n",
      "61/61 [==============================] - 1s 10ms/step - loss: 0.1179 - accuracy: 0.9849\n",
      "Epoch 404/480\n",
      "61/61 [==============================] - 1s 10ms/step - loss: 0.0814 - accuracy: 0.9870\n",
      "Epoch 405/480\n",
      "61/61 [==============================] - 1s 10ms/step - loss: 0.0465 - accuracy: 0.9917\n",
      "Epoch 406/480\n",
      "61/61 [==============================] - 1s 10ms/step - loss: 0.0375 - accuracy: 0.9906\n",
      "Epoch 407/480\n",
      "61/61 [==============================] - 1s 10ms/step - loss: 0.0890 - accuracy: 0.9901\n",
      "Epoch 408/480\n",
      "61/61 [==============================] - 1s 10ms/step - loss: 0.1018 - accuracy: 0.9880\n",
      "Epoch 409/480\n",
      "61/61 [==============================] - 1s 10ms/step - loss: 0.0833 - accuracy: 0.9880\n",
      "Epoch 410/480\n",
      "61/61 [==============================] - 1s 10ms/step - loss: 0.1001 - accuracy: 0.9901\n",
      "Epoch 411/480\n",
      "61/61 [==============================] - 1s 10ms/step - loss: 0.1105 - accuracy: 0.9854\n",
      "Epoch 412/480\n",
      "61/61 [==============================] - 1s 10ms/step - loss: 0.1012 - accuracy: 0.9865\n",
      "Epoch 413/480\n",
      "61/61 [==============================] - 1s 10ms/step - loss: 0.0780 - accuracy: 0.9880\n",
      "Epoch 414/480\n",
      "61/61 [==============================] - 1s 10ms/step - loss: 0.0693 - accuracy: 0.9891\n",
      "Epoch 415/480\n",
      "61/61 [==============================] - 1s 11ms/step - loss: 0.0743 - accuracy: 0.9875\n",
      "Epoch 416/480\n",
      "61/61 [==============================] - 1s 10ms/step - loss: 0.0902 - accuracy: 0.9880\n",
      "Epoch 417/480\n",
      "61/61 [==============================] - 1s 10ms/step - loss: 0.0958 - accuracy: 0.9859\n",
      "Epoch 418/480\n",
      "61/61 [==============================] - 1s 10ms/step - loss: 0.1083 - accuracy: 0.9875\n",
      "Epoch 419/480\n",
      "61/61 [==============================] - 1s 10ms/step - loss: 0.0973 - accuracy: 0.9865\n",
      "Epoch 420/480\n",
      "61/61 [==============================] - 1s 10ms/step - loss: 0.0944 - accuracy: 0.9849\n",
      "Epoch 421/480\n",
      "61/61 [==============================] - 1s 10ms/step - loss: 0.0765 - accuracy: 0.9875\n",
      "Epoch 422/480\n",
      "61/61 [==============================] - 1s 10ms/step - loss: 0.1233 - accuracy: 0.9823\n",
      "Epoch 423/480\n",
      "61/61 [==============================] - 1s 10ms/step - loss: 0.1160 - accuracy: 0.9865\n",
      "Epoch 424/480\n",
      "61/61 [==============================] - 1s 10ms/step - loss: 0.1218 - accuracy: 0.9870\n",
      "Epoch 425/480\n",
      "61/61 [==============================] - 1s 10ms/step - loss: 0.0937 - accuracy: 0.9865\n",
      "Epoch 426/480\n",
      "61/61 [==============================] - 1s 10ms/step - loss: 0.0614 - accuracy: 0.9906\n",
      "Epoch 427/480\n",
      "61/61 [==============================] - 1s 10ms/step - loss: 0.0734 - accuracy: 0.9891\n",
      "Epoch 428/480\n",
      "61/61 [==============================] - 1s 10ms/step - loss: 0.0407 - accuracy: 0.9917\n",
      "Epoch 429/480\n",
      "61/61 [==============================] - 1s 10ms/step - loss: 0.1205 - accuracy: 0.9833\n",
      "Epoch 430/480\n",
      "61/61 [==============================] - 1s 10ms/step - loss: 0.0542 - accuracy: 0.9917\n",
      "Epoch 431/480\n",
      "61/61 [==============================] - 1s 10ms/step - loss: 0.1462 - accuracy: 0.9865\n",
      "Epoch 432/480\n",
      "61/61 [==============================] - 1s 10ms/step - loss: 0.0709 - accuracy: 0.9885\n",
      "Epoch 433/480\n",
      "61/61 [==============================] - 1s 9ms/step - loss: 0.0696 - accuracy: 0.9859\n",
      "Epoch 434/480\n",
      "61/61 [==============================] - 1s 9ms/step - loss: 0.0771 - accuracy: 0.9891\n",
      "Epoch 435/480\n",
      "61/61 [==============================] - 1s 10ms/step - loss: 0.0385 - accuracy: 0.9922\n",
      "Epoch 436/480\n",
      "61/61 [==============================] - 1s 10ms/step - loss: 0.0887 - accuracy: 0.9880\n",
      "Epoch 437/480\n",
      "61/61 [==============================] - 1s 10ms/step - loss: 0.1252 - accuracy: 0.9818\n",
      "Epoch 438/480\n",
      "61/61 [==============================] - 1s 10ms/step - loss: 0.1261 - accuracy: 0.9875\n",
      "Epoch 439/480\n",
      "61/61 [==============================] - 1s 9ms/step - loss: 0.0814 - accuracy: 0.9870\n",
      "Epoch 440/480\n",
      "61/61 [==============================] - 1s 10ms/step - loss: 0.0778 - accuracy: 0.9870\n",
      "Epoch 441/480\n",
      "61/61 [==============================] - 1s 10ms/step - loss: 0.0784 - accuracy: 0.9922\n",
      "Epoch 442/480\n",
      "61/61 [==============================] - 1s 10ms/step - loss: 0.1095 - accuracy: 0.9859\n",
      "Epoch 443/480\n",
      "61/61 [==============================] - 1s 10ms/step - loss: 0.1116 - accuracy: 0.9859\n",
      "Epoch 444/480\n",
      "61/61 [==============================] - 1s 10ms/step - loss: 0.0683 - accuracy: 0.9912\n",
      "Epoch 445/480\n",
      "61/61 [==============================] - 1s 12ms/step - loss: 0.0833 - accuracy: 0.9896\n",
      "Epoch 446/480\n",
      "61/61 [==============================] - 1s 11ms/step - loss: 0.0962 - accuracy: 0.9859\n",
      "Epoch 447/480\n",
      "61/61 [==============================] - 1s 11ms/step - loss: 0.0621 - accuracy: 0.9891\n",
      "Epoch 448/480\n",
      "61/61 [==============================] - 1s 11ms/step - loss: 0.0996 - accuracy: 0.9849\n",
      "Epoch 449/480\n",
      "61/61 [==============================] - 1s 11ms/step - loss: 0.0518 - accuracy: 0.9896\n",
      "Epoch 450/480\n",
      "61/61 [==============================] - 1s 10ms/step - loss: 0.0908 - accuracy: 0.9870\n",
      "Epoch 451/480\n",
      "61/61 [==============================] - 1s 10ms/step - loss: 0.0781 - accuracy: 0.9839\n",
      "Epoch 452/480\n",
      "61/61 [==============================] - 1s 10ms/step - loss: 0.0672 - accuracy: 0.9906\n",
      "Epoch 453/480\n",
      "61/61 [==============================] - 1s 10ms/step - loss: 0.0932 - accuracy: 0.9854\n",
      "Epoch 454/480\n",
      "61/61 [==============================] - 1s 10ms/step - loss: 0.0936 - accuracy: 0.9859\n",
      "Epoch 455/480\n",
      "61/61 [==============================] - 1s 10ms/step - loss: 0.0589 - accuracy: 0.9901\n",
      "Epoch 456/480\n",
      "61/61 [==============================] - 1s 10ms/step - loss: 0.0526 - accuracy: 0.9885\n",
      "Epoch 457/480\n",
      "61/61 [==============================] - 1s 10ms/step - loss: 0.0488 - accuracy: 0.9922\n",
      "Epoch 458/480\n",
      "61/61 [==============================] - 1s 10ms/step - loss: 0.0779 - accuracy: 0.9849\n",
      "Epoch 459/480\n",
      "61/61 [==============================] - 1s 10ms/step - loss: 0.0947 - accuracy: 0.9891\n",
      "Epoch 460/480\n",
      "61/61 [==============================] - 1s 10ms/step - loss: 0.0679 - accuracy: 0.9896\n",
      "Epoch 461/480\n",
      "61/61 [==============================] - 1s 10ms/step - loss: 0.0444 - accuracy: 0.9901\n",
      "Epoch 462/480\n",
      "61/61 [==============================] - 1s 10ms/step - loss: 0.0515 - accuracy: 0.9917\n",
      "Epoch 463/480\n",
      "61/61 [==============================] - 1s 10ms/step - loss: 0.0968 - accuracy: 0.9901\n",
      "Epoch 464/480\n",
      "61/61 [==============================] - 1s 10ms/step - loss: 0.1193 - accuracy: 0.9865\n",
      "Epoch 465/480\n",
      "61/61 [==============================] - 1s 10ms/step - loss: 0.1431 - accuracy: 0.9849\n",
      "Epoch 466/480\n",
      "61/61 [==============================] - 1s 10ms/step - loss: 0.1458 - accuracy: 0.9849\n",
      "Epoch 467/480\n",
      "61/61 [==============================] - 1s 10ms/step - loss: 0.1481 - accuracy: 0.9823\n",
      "Epoch 468/480\n",
      "61/61 [==============================] - 1s 10ms/step - loss: 0.1877 - accuracy: 0.9833\n",
      "Epoch 469/480\n",
      "61/61 [==============================] - 1s 10ms/step - loss: 0.2076 - accuracy: 0.9813\n",
      "Epoch 470/480\n",
      "61/61 [==============================] - 1s 10ms/step - loss: 0.1326 - accuracy: 0.9854\n",
      "Epoch 471/480\n",
      "61/61 [==============================] - 1s 10ms/step - loss: 0.1178 - accuracy: 0.9854\n",
      "Epoch 472/480\n",
      "61/61 [==============================] - 1s 10ms/step - loss: 0.1095 - accuracy: 0.9875\n",
      "Epoch 473/480\n",
      "61/61 [==============================] - 1s 10ms/step - loss: 0.1043 - accuracy: 0.9880\n",
      "Epoch 474/480\n",
      "61/61 [==============================] - 1s 10ms/step - loss: 0.0866 - accuracy: 0.9885\n",
      "Epoch 475/480\n",
      "61/61 [==============================] - 1s 10ms/step - loss: 0.0817 - accuracy: 0.9865\n",
      "Epoch 476/480\n",
      "61/61 [==============================] - 1s 10ms/step - loss: 0.0653 - accuracy: 0.9865\n",
      "Epoch 477/480\n",
      "61/61 [==============================] - 1s 10ms/step - loss: 0.0639 - accuracy: 0.9891\n",
      "Epoch 478/480\n",
      "61/61 [==============================] - 1s 10ms/step - loss: 0.0661 - accuracy: 0.9885\n",
      "Epoch 479/480\n",
      "61/61 [==============================] - 1s 10ms/step - loss: 0.0935 - accuracy: 0.9880\n",
      "Epoch 480/480\n",
      "61/61 [==============================] - 1s 10ms/step - loss: 0.0979 - accuracy: 0.9912\n"
     ]
    },
    {
     "data": {
      "text/plain": [
       "<keras.callbacks.History at 0x7f31b00777f0>"
      ]
     },
     "execution_count": 27,
     "metadata": {},
     "output_type": "execute_result"
    }
   ],
   "source": [
    "model.fit(train_images, train_labels, epochs=480)"
   ]
  },
  {
   "cell_type": "markdown",
   "metadata": {
    "id": "O6sOOyDrZE9D"
   },
   "source": [
    "### saving model"
   ]
  },
  {
   "cell_type": "code",
   "execution_count": null,
   "metadata": {
    "id": "-pUOBBQCgobq"
   },
   "outputs": [],
   "source": [
    "model.save('/content/drive/MyDrive/saved_model/new')"
   ]
  },
  {
   "cell_type": "markdown",
   "metadata": {
    "id": "DJVVlvWHZQbQ"
   },
   "source": [
    "### confusion_matrix"
   ]
  },
  {
   "cell_type": "code",
   "execution_count": 20,
   "metadata": {
    "id": "B-xJahF0eqbB"
   },
   "outputs": [],
   "source": [
    "ocr_model = tf.keras.models.load_model('/content/drive/MyDrive/saved_model/new')"
   ]
  },
  {
   "cell_type": "code",
   "execution_count": 21,
   "metadata": {
    "colab": {
     "base_uri": "https://localhost:8080/",
     "height": 481
    },
    "id": "aJuPzsFBRzbB",
    "outputId": "823d3941-7c3f-4986-9c04-210a9605f3b4"
   },
   "outputs": [
    {
     "name": "stdout",
     "output_type": "stream",
     "text": [
      "4/4 [==============================] - 2s 7ms/step\n"
     ]
    },
    {
     "data": {
      "text/plain": [
       "Text(69.0, 0.5, 'Truth')"
      ]
     },
     "execution_count": 21,
     "metadata": {},
     "output_type": "execute_result"
    },
    {
     "data": {
      "image/png": "[encoded data removed]",
      "text/plain": [
       "<Figure size 720x504 with 2 Axes>"
      ]
     },
     "metadata": {
      "needs_background": "light"
     },
     "output_type": "display_data"
    }
   ],
   "source": [
    "y_predicted = ocr_model.predict(test_images)\n",
    "y_predicted_labels = [np.argmax(i) for i in y_predicted]\n",
    "\n",
    "cm = tf.math.confusion_matrix(labels=test_labels, predictions=y_predicted_labels)\n",
    "\n",
    "import seaborn as sn\n",
    "plt.figure(figsize = (10,7))\n",
    "sn.heatmap(cm, annot=True, fmt='d')\n",
    "plt.xlabel('Predicted')\n",
    "plt.ylabel('Truth')\n",
    "     "
   ]
  },
  {
   "cell_type": "markdown",
   "metadata": {
    "id": "22V7SGsdaDE8"
   },
   "source": [
    "### output"
   ]
  },
  {
   "cell_type": "code",
   "execution_count": 22,
   "metadata": {
    "colab": {
     "base_uri": "https://localhost:8080/"
    },
    "id": "E2wEE6CMZokj",
    "outputId": "fd30cbe3-27dd-4600-c796-6c3c1e3f44d3"
   },
   "outputs": [
    {
     "name": "stdout",
     "output_type": "stream",
     "text": [
      "4/4 [==============================] - 0s 6ms/step\n"
     ]
    }
   ],
   "source": [
    "predictions = ocr_model.predict(test_images)"
   ]
  },
  {
   "cell_type": "code",
   "execution_count": 23,
   "metadata": {
    "colab": {
     "base_uri": "https://localhost:8080/"
    },
    "id": "71MS7U746i2-",
    "outputId": "2c6f849d-94c8-4243-af43-9bbe3b7354ff"
   },
   "outputs": [
    {
     "name": "stdout",
     "output_type": "stream",
     "text": [
      "0 10\n",
      "1 15\n",
      "2 10\n",
      "3 16\n",
      "4 13\n"
     ]
    }
   ],
   "source": [
    "# array([10, 15,  9, 16, 13, 21, 13, 19, 21, 11, 17, 13,  0, 14, 17,  9, 13,\n",
    "#        19, 13, 22, 10, 18, 13, 19, 13,  1,  1, 12, 21, 12, 12, 19, 18, 13,\n",
    "#        13, 18, 17, 16, 21, 16, 11, 16,  9, 22, 16, 14,  9, 22, 11, 18, 13,\n",
    "#        21, 15, 14, 15,  9, 13,  1, 17, 10,  1, 14, 19, 20, 20, 15, 10, 18,\n",
    "#        17, 17,  1, 17, 14, 17, 10,  9, 16,  0, 10, 19, 20, 11, 21, 22, 21,\n",
    "#        12,  9, 11,  1,  9, 14, 22, 10, 11,  1, 10, 19, 16,  9, 16, 19, 20,\n",
    "#        22, 11, 18, 16, 15, 11,  1])\n",
    "\n",
    "\n",
    "for v,l in enumerate(predictions[:5]):\n",
    "    print(v,np.argmax(l))\n"
   ]
  },
  {
   "cell_type": "code",
   "execution_count": 24,
   "metadata": {
    "colab": {
     "base_uri": "https://localhost:8080/"
    },
    "id": "V84gQCjkV0g7",
    "outputId": "434b24cf-9b62-488b-b63e-66aa96759eac"
   },
   "outputs": [
    {
     "name": "stdout",
     "output_type": "stream",
     "text": [
      "0 11-zal\n",
      "1 16-shin\n",
      "2 11-zal\n",
      "3 17-sad\n",
      "4 14-zh\n"
     ]
    }
   ],
   "source": [
    "\n",
    "for v,l in enumerate(predictions[:5]):\n",
    "    print(v,class_names[np.argmax(l)])"
   ]
  },
  {
   "cell_type": "code",
   "execution_count": 59,
   "metadata": {
    "id": "7R7rgnUdiFww"
   },
   "outputs": [],
   "source": [
    "# test_img_path = \"/content/plate-alpha-6/train/40-seven/11seven_jpg.rf.5d6f7eb9dcd497c1d3cdb09b8225d615.jpg\"\n",
    "# test_img = cv.imread(test_img_path, 0)\n",
    "# test_img = np.expand_dims(test_img, axis=0)\n",
    "# prediction1 = ocr_model.predict(test_img)\n",
    "\n",
    "# class_names[np.argmax(prediction1[0])]\n",
    "\n"
   ]
  }
 ],
 "metadata": {
  "accelerator": "GPU",
  "colab": {
   "provenance": []
  },
  "gpuClass": "standard",
  "kernelspec": {
   "display_name": "Python 3 (ipykernel)",
   "language": "python",
   "name": "python3"
  },
  "language_info": {
   "codemirror_mode": {
    "name": "ipython",
    "version": 3
   },
   "file_extension": ".py",
   "mimetype": "text/x-python",
   "name": "python",
   "nbconvert_exporter": "python",
   "pygments_lexer": "ipython3",
   "version": "3.8.10"
  }
 },
 "nbformat": 4,
 "nbformat_minor": 1
}
